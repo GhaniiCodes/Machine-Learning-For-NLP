{
 "cells": [
  {
   "cell_type": "markdown",
   "id": "76812053",
   "metadata": {},
   "source": [
    "# Lematization \n",
    "\n",
    "* Lemmatization is the technique of converting a word into the root word called as LEMMA \n",
    "* It gave us meainingful words as compared to stemming \n",
    "\n",
    "##### Postages\n",
    "\n",
    "Lemmatization uses some postages for part of speech recognition\n",
    "\n",
    "* Noun = n\n",
    "* Verb = v\n",
    "* Ajective = a\n",
    "* Adverb = r\n",
    "\n",
    "\n",
    "* We will have to gave the postage in the lemmtiza funtion as \"pos = \" \n",
    "* If not given by user lemmatize function will by default gave a postage to the given word"
   ]
  },
  {
   "cell_type": "code",
   "execution_count": 4,
   "id": "0f1e5245",
   "metadata": {},
   "outputs": [
    {
     "name": "stdout",
     "output_type": "stream",
     "text": [
      "playing  ---->  playing\n",
      "played  ---->  played\n",
      "happiness  ---->  happiness\n",
      "happily  ---->  happily\n",
      "running  ---->  running\n",
      "runner  ---->  runner\n",
      "easily  ---->  easily\n",
      "studies  ---->  study\n",
      "studying  ---->  studying\n",
      "bigger  ---->  bigger\n",
      "movement  ---->  movement\n",
      "national  ---->  national\n",
      "organization  ---->  organization\n",
      "connected  ---->  connected\n",
      "connection  ---->  connection\n"
     ]
    }
   ],
   "source": [
    "# Importing Libraries \n",
    "from nltk.stem import WordNetLemmatizer\n",
    "\n",
    "# List of Words\n",
    "words = [\n",
    "    \"playing\",\n",
    "    \"played\",\n",
    "    \"happiness\",\n",
    "    \"happily\",\n",
    "    \"running\",\n",
    "    \"runner\",\n",
    "    \"easily\",\n",
    "    \"studies\",\n",
    "    \"studying\",\n",
    "    \"bigger\",\n",
    "    \"movement\",\n",
    "    \"national\",\n",
    "    \"organization\",\n",
    "    \"connected\",\n",
    "    \"connection\"]\n",
    "\n",
    "# Initialization \n",
    "Lemmatizer = WordNetLemmatizer()\n",
    "\n",
    "# Applying Lemmatization \n",
    "for word in words:\n",
    "    print (word + \"  ---->  \" + Lemmatizer.lemmatize(word))"
   ]
  },
  {
   "cell_type": "code",
   "execution_count": null,
   "id": "8fedadcd",
   "metadata": {},
   "outputs": [
    {
     "name": "stdout",
     "output_type": "stream",
     "text": [
      "playing  ---->  play\n",
      "played  ---->  play\n",
      "happiness  ---->  happiness\n",
      "happily  ---->  happily\n",
      "running  ---->  run\n",
      "runner  ---->  runner\n",
      "easily  ---->  easily\n",
      "studies  ---->  study\n",
      "studying  ---->  study\n",
      "bigger  ---->  bigger\n",
      "movement  ---->  movement\n",
      "national  ---->  national\n",
      "organization  ---->  organization\n",
      "connected  ---->  connect\n",
      "connection  ---->  connection\n"
     ]
    }
   ],
   "source": [
    "# Applying Lemmatization \n",
    "# Applying Verb Postage\n",
    "for word in words:\n",
    "    print (word + \"  ---->  \" + Lemmatizer.lemmatize(word, pos='v'))"
   ]
  },
  {
   "cell_type": "code",
   "execution_count": 6,
   "id": "f367112c",
   "metadata": {},
   "outputs": [
    {
     "name": "stdout",
     "output_type": "stream",
     "text": [
      "playing  ---->  playing\n",
      "played  ---->  played\n",
      "happiness  ---->  happiness\n",
      "happily  ---->  happily\n",
      "running  ---->  running\n",
      "runner  ---->  runner\n",
      "easily  ---->  easily\n",
      "studies  ---->  study\n",
      "studying  ---->  studying\n",
      "bigger  ---->  bigger\n",
      "movement  ---->  movement\n",
      "national  ---->  national\n",
      "organization  ---->  organization\n",
      "connected  ---->  connected\n",
      "connection  ---->  connection\n"
     ]
    }
   ],
   "source": [
    "# Applying Lemmatization \n",
    "# Applying Noun Postage\n",
    "for word in words:\n",
    "    print (word + \"  ---->  \" + Lemmatizer.lemmatize(word, pos='n'))"
   ]
  },
  {
   "cell_type": "code",
   "execution_count": 7,
   "id": "e1f0955f",
   "metadata": {},
   "outputs": [
    {
     "name": "stdout",
     "output_type": "stream",
     "text": [
      "playing  ---->  playing\n",
      "played  ---->  played\n",
      "happiness  ---->  happiness\n",
      "happily  ---->  happily\n",
      "running  ---->  running\n",
      "runner  ---->  runner\n",
      "easily  ---->  easily\n",
      "studies  ---->  studies\n",
      "studying  ---->  studying\n",
      "bigger  ---->  big\n",
      "movement  ---->  movement\n",
      "national  ---->  national\n",
      "organization  ---->  organization\n",
      "connected  ---->  connected\n",
      "connection  ---->  connection\n"
     ]
    }
   ],
   "source": [
    "# Applying Lemmatization \n",
    "# Applying Adjective Postage\n",
    "for word in words:\n",
    "    print (word + \"  ---->  \" + Lemmatizer.lemmatize(word, pos='a'))"
   ]
  },
  {
   "cell_type": "code",
   "execution_count": 8,
   "id": "73d2c7a6",
   "metadata": {},
   "outputs": [
    {
     "name": "stdout",
     "output_type": "stream",
     "text": [
      "playing  ---->  playing\n",
      "played  ---->  played\n",
      "happiness  ---->  happiness\n",
      "happily  ---->  happily\n",
      "running  ---->  running\n",
      "runner  ---->  runner\n",
      "easily  ---->  easily\n",
      "studies  ---->  studies\n",
      "studying  ---->  studying\n",
      "bigger  ---->  bigger\n",
      "movement  ---->  movement\n",
      "national  ---->  national\n",
      "organization  ---->  organization\n",
      "connected  ---->  connected\n",
      "connection  ---->  connection\n"
     ]
    }
   ],
   "source": [
    "# Applying Lemmatization \n",
    "# Applying Adverb Postage\n",
    "for word in words:\n",
    "    print (word + \"  ---->  \" + Lemmatizer.lemmatize(word, pos='r'))"
   ]
  }
 ],
 "metadata": {
  "kernelspec": {
   "display_name": "GenAI",
   "language": "python",
   "name": "python3"
  },
  "language_info": {
   "codemirror_mode": {
    "name": "ipython",
    "version": 3
   },
   "file_extension": ".py",
   "mimetype": "text/x-python",
   "name": "python",
   "nbconvert_exporter": "python",
   "pygments_lexer": "ipython3",
   "version": "3.13.0"
  }
 },
 "nbformat": 4,
 "nbformat_minor": 5
}
