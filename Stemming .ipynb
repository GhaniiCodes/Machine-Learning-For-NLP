{
 "cells": [
  {
   "cell_type": "markdown",
   "id": "b4b542cc",
   "metadata": {},
   "source": [
    "# Stemming\n",
    "\n",
    "* Process of reducing a word into its Root word\n",
    "\n",
    "There are different types of stemming we will disscuss them with example"
   ]
  },
  {
   "cell_type": "markdown",
   "id": "0bc37876",
   "metadata": {},
   "source": [
    "* Here we will disscuss three types of stemming\n",
    "\n",
    "##### Porter stemmer\n",
    "##### RegexpStemmer\n",
    "##### SnowballStemmer"
   ]
  },
  {
   "cell_type": "markdown",
   "id": "abbd9642",
   "metadata": {},
   "source": [
    "Here are list of some words that we will perform stemming on :-> "
   ]
  },
  {
   "cell_type": "code",
   "execution_count": 2,
   "id": "318673df",
   "metadata": {},
   "outputs": [],
   "source": [
    "words = [\n",
    "    \"playing\",\n",
    "    \"played\",\n",
    "    \"happiness\",\n",
    "    \"happily\",\n",
    "    \"running\",\n",
    "    \"runner\",\n",
    "    \"easily\",\n",
    "    \"studies\",\n",
    "    \"studying\",\n",
    "    \"bigger\",\n",
    "    \"movement\",\n",
    "    \"national\",\n",
    "    \"organization\",\n",
    "    \"connected\",\n",
    "    \"connection\"]"
   ]
  },
  {
   "cell_type": "markdown",
   "id": "776a2f12",
   "metadata": {},
   "source": [
    "## Porter Stemmer "
   ]
  },
  {
   "cell_type": "markdown",
   "id": "fc805bb6",
   "metadata": {},
   "source": [
    "Here we will see that for some words it will gave us a best root words but for some words it will gave us words with no meaning \n",
    "\n",
    "* Errors will be eliminated through Lamitization"
   ]
  },
  {
   "cell_type": "code",
   "execution_count": null,
   "id": "941e3150",
   "metadata": {},
   "outputs": [
    {
     "name": "stdout",
     "output_type": "stream",
     "text": [
      "playing  ---->  play\n",
      "played  ---->  play\n",
      "happiness  ---->  happi\n",
      "happily  ---->  happili\n",
      "running  ---->  run\n",
      "runner  ---->  runner\n",
      "easily  ---->  easili\n",
      "studies  ---->  studi\n",
      "studying  ---->  studi\n",
      "bigger  ---->  bigger\n",
      "movement  ---->  movement\n",
      "national  ---->  nation\n",
      "organization  ---->  organ\n",
      "connected  ---->  connect\n",
      "connection  ---->  connect\n"
     ]
    }
   ],
   "source": [
    "# importing porter stemmer\n",
    "from nltk.stem import PorterStemmer\n",
    "\n",
    "# Initializing \n",
    "PorterStemmer = PorterStemmer()\n",
    "\n",
    "# Applying stemming to the list of words \n",
    "for word in words:\n",
    "    print (word + \"  ---->  \" + PorterStemmer.stem(word))"
   ]
  },
  {
   "cell_type": "markdown",
   "id": "0f52ba6b",
   "metadata": {},
   "source": [
    "## RegexpStemmer"
   ]
  },
  {
   "cell_type": "markdown",
   "id": "b5461c2f",
   "metadata": {},
   "source": [
    "Here we will gave some regualar expressions in the Initializing functions.\n",
    "This stemmer will search for those regualar expressions in each word and will Remove that"
   ]
  },
  {
   "cell_type": "code",
   "execution_count": null,
   "id": "c9af4cc2",
   "metadata": {},
   "outputs": [
    {
     "name": "stdout",
     "output_type": "stream",
     "text": [
      "playing  ---->  play\n",
      "played  ---->  play\n",
      "happiness  ---->  happiness\n",
      "happily  ---->  happily\n",
      "running  ---->  runn\n",
      "runner  ---->  runner\n",
      "easily  ---->  easily\n",
      "studies  ---->  studi\n",
      "studying  ---->  study\n",
      "bigger  ---->  bigger\n",
      "movement  ---->  movement\n",
      "national  ---->  national\n",
      "organization  ---->  organiza\n",
      "connected  ---->  connect\n",
      "connection  ---->  connec\n"
     ]
    }
   ],
   "source": [
    "#importing Regexpstemmer\n",
    "from nltk.stem import RegexpStemmer\n",
    "\n",
    "# Initailizing \n",
    "RegexpStemmer = RegexpStemmer('ing$|es$|tion$|ed$')\n",
    "\n",
    "# Applying to the list of words\n",
    "for word in words:\n",
    "    print (word + \"  ---->  \" + RegexpStemmer.stem(word))"
   ]
  },
  {
   "cell_type": "markdown",
   "id": "7c3aa01a",
   "metadata": {},
   "source": [
    "## SnowBall Stemmer "
   ]
  },
  {
   "cell_type": "markdown",
   "id": "cafdbf74",
   "metadata": {},
   "source": [
    "SnowBall stemmer is better than porter stemmer \n",
    "Because it gave us better root words for most of words\n",
    "\n",
    "In the initialization function we will enter a language \n",
    "Snowball stemmer supports many languages such as\n",
    "\n",
    "* English \n",
    "* Arabic \n",
    "* French \n",
    "* And many more"
   ]
  },
  {
   "cell_type": "code",
   "execution_count": 20,
   "id": "d6cd4914",
   "metadata": {},
   "outputs": [
    {
     "name": "stdout",
     "output_type": "stream",
     "text": [
      "playing  ---->  play\n",
      "played  ---->  play\n",
      "happiness  ---->  happi\n",
      "happily  ---->  happili\n",
      "running  ---->  run\n",
      "runner  ---->  runner\n",
      "easily  ---->  easili\n",
      "studies  ---->  studi\n",
      "studying  ---->  studi\n",
      "bigger  ---->  bigger\n",
      "movement  ---->  movement\n",
      "national  ---->  nation\n",
      "organization  ---->  organ\n",
      "connected  ---->  connect\n",
      "connection  ---->  connect\n"
     ]
    }
   ],
   "source": [
    "# importing Snowball stemmer\n",
    "from nltk.stem import SnowballStemmer\n",
    "\n",
    "# Initailizing \n",
    "SnowStemmer = SnowballStemmer('english')\n",
    "\n",
    "# Applying\n",
    "for word in words:\n",
    "    print (word + \"  ---->  \" + SnowStemmer.stem(word))\n"
   ]
  },
  {
   "cell_type": "markdown",
   "id": "736afc16",
   "metadata": {},
   "source": [
    "# Disadvantages of Stemming\n",
    "\n",
    "1. **Overstemming**\n",
    "   - Different words with different meanings may be reduced to the same root form.\n",
    "   - *Example*: `universe` and `university` might both stem to `univers`, causing confusion.\n",
    "\n",
    "2. **Understemming**\n",
    "   - Words that should be reduced to the same stem are not.\n",
    "   - *Example*: `connect` and `connection` might stay separate, missing the relation.\n",
    "\n",
    "3. **Loss of Meaning**\n",
    "   - After stemming, the root form might not make much sense or even be a real word, making interpretation harder.\n",
    "\n",
    "4. **Language Dependence**\n",
    "   - A stemmer usually works for a specific language and struggles with others without significant modification.\n",
    "\n",
    "5. **Errors in Information Retrieval**\n",
    "   - Due to overstemming and understemming, search results might include irrelevant documents or miss relevant ones.\n",
    "\n",
    "6. **Crude Simplification**\n",
    "   - Stemming is a basic, rule-based method. It doesn't consider grammar, context, or semantic meaning.\n",
    "\n",
    "7. **Handling of Irregular Words**\n",
    "   - Irregular plurals, past tenses, or exceptions (like `goose → geese`) are often poorly handled.\n"
   ]
  }
 ],
 "metadata": {
  "kernelspec": {
   "display_name": "GenAI",
   "language": "python",
   "name": "python3"
  },
  "language_info": {
   "codemirror_mode": {
    "name": "ipython",
    "version": 3
   },
   "file_extension": ".py",
   "mimetype": "text/x-python",
   "name": "python",
   "nbconvert_exporter": "python",
   "pygments_lexer": "ipython3",
   "version": "3.13.0"
  }
 },
 "nbformat": 4,
 "nbformat_minor": 5
}
