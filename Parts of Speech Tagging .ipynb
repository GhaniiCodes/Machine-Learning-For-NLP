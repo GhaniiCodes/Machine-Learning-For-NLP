{
 "cells": [
  {
   "cell_type": "markdown",
   "id": "09858b27",
   "metadata": {},
   "source": [
    "# Parts Of Speech Tagging \n",
    "* By applying postage the all words will be assigned to a Part of Speech Tagging"
   ]
  },
  {
   "cell_type": "code",
   "execution_count": 7,
   "id": "b09a1afa",
   "metadata": {},
   "outputs": [],
   "source": [
    "from nltk.tokenize import sent_tokenize\n",
    "from nltk.tokenize import word_tokenize\n",
    "import nltk\n"
   ]
  },
  {
   "cell_type": "code",
   "execution_count": 2,
   "id": "a2783d5c",
   "metadata": {},
   "outputs": [],
   "source": [
    "Corpus = \"\"\"An Argentine international, Messi is the national team's all-time leading goalscorer and most-capped player.\n",
    "His style of play as a diminutive, left-footed dribbler, drew career-long comparisons with compatriot Diego Maradona,\n",
    "who described Messi as his successor.\n",
    "At the youth level, he won the 2005 FIFA World Youth Championship and gold medal in the 2008 Summer Olympics.\n",
    "After his senior debut in 2005, Messi became the youngest Argentine to play and score in a World Cup in 2006.\n",
    "Assuming captaincy in 2011, he then led Argentina to three consecutive finals in the 2014 FIFA World Cup,\n",
    "the 2015 Copa América and the Copa América Centenario, all of which they would lose.\n",
    "After initially announcing his international retirement in 2016,\n",
    "he returned to help his country narrowly qualify for the 2018 FIFA World Cup, which they would exit early.\n",
    "Messi and the national team finally broke Argentina's 28-year trophy drought by winning the 2021 Copa América,\n",
    "which helped him secure his seventh Ballon d'Or that year.\n",
    "He then led Argentina to win the 2022 Finalissima,\n",
    "as well as the 2022 FIFA World Cup, his country's third overall world championship and first in 36 years.\n",
    "This followed with a record-extending eighth Ballon d'Or in 2023, and a victory in the 2024 Copa América.\"\"\""
   ]
  },
  {
   "cell_type": "code",
   "execution_count": 3,
   "id": "6782647d",
   "metadata": {},
   "outputs": [
    {
     "data": {
      "text/plain": [
       "[\"An Argentine international, Messi is the national team's all-time leading goalscorer and most-capped player.\",\n",
       " 'His style of play as a diminutive, left-footed dribbler, drew career-long comparisons with compatriot Diego Maradona,\\nwho described Messi as his successor.',\n",
       " 'At the youth level, he won the 2005 FIFA World Youth Championship and gold medal in the 2008 Summer Olympics.',\n",
       " 'After his senior debut in 2005, Messi became the youngest Argentine to play and score in a World Cup in 2006.',\n",
       " 'Assuming captaincy in 2011, he then led Argentina to three consecutive finals in the 2014 FIFA World Cup,\\nthe 2015 Copa América and the Copa América Centenario, all of which they would lose.',\n",
       " 'After initially announcing his international retirement in 2016,\\nhe returned to help his country narrowly qualify for the 2018 FIFA World Cup, which they would exit early.',\n",
       " \"Messi and the national team finally broke Argentina's 28-year trophy drought by winning the 2021 Copa América,\\nwhich helped him secure his seventh Ballon d'Or that year.\",\n",
       " \"He then led Argentina to win the 2022 Finalissima,\\nas well as the 2022 FIFA World Cup, his country's third overall world championship and first in 36 years.\",\n",
       " \"This followed with a record-extending eighth Ballon d'Or in 2023, and a victory in the 2024 Copa América.\"]"
      ]
     },
     "execution_count": 3,
     "metadata": {},
     "output_type": "execute_result"
    }
   ],
   "source": [
    "Sentences = sent_tokenize(Corpus)\n",
    "Sentences"
   ]
  },
  {
   "cell_type": "markdown",
   "id": "a931030a",
   "metadata": {},
   "source": [
    "* Following are some of the Pos_tags in NLP :-->\n",
    "\n",
    "1.\tCC\tCoordinating conjunction\n",
    "2.\tCD\tCardinal number\n",
    "3.\tDT\tDeterminer\n",
    "4.\tEX\tExistential there\n",
    "5.\tFW\tForeign word\n",
    "6.\tIN\tPreposition or subordinating conjunction\n",
    "7.\tJJ\tAdjective\n",
    "8.\tJJR\tAdjective, comparative\n",
    "9.\tJJS\tAdjective, superlative\n",
    "10.\tLS\tList item marker\n",
    "11.\tMD\tModal\n",
    "12.\tNN\tNoun, singular or mass\n",
    "13.\tNNS\tNoun, plural\n",
    "14.\tNNP\tProper noun, singular\n",
    "15.\tNNPS\tProper noun, plural\n",
    "16.\tPDT\tPredeterminer\n",
    "17.\tPOS\tPossessive ending\n",
    "18.\tPRP\tPersonal pronoun\n",
    "19.\tPRP$\tPossessive pronoun\n",
    "20.\tRB\tAdverb\n",
    "21.\tRBR\tAdverb, comparative\n",
    "22.\tRBS\tAdverb, superlative\n",
    "23.\tRP\tParticle\n",
    "24.\tSYM\tSymbol\n",
    "25.\tTO\tto\n",
    "26.\tUH\tInterjection\n",
    "27.\tVB\tVerb, base form\n",
    "28.\tVBD\tVerb, past tense\n",
    "29.\tVBG\tVerb, gerund or present participle\n",
    "30.\tVBN\tVerb, past participle\n",
    "31.\tVBP\tVerb, non-3rd person singular present\n",
    "32.\tVBZ\tVerb, 3rd person singular present\n",
    "33.\tWDT\tWh-determiner\n",
    "34.\tWP\tWh-pronoun\n",
    "35.\tWP$\tPossessive wh-pronoun\n",
    "36.\tWRB\tWh-adverb"
   ]
  },
  {
   "cell_type": "code",
   "execution_count": 8,
   "id": "225825fa",
   "metadata": {},
   "outputs": [
    {
     "name": "stdout",
     "output_type": "stream",
     "text": [
      "[('An', 'DT'), ('Argentine', 'NNP'), ('international', 'JJ'), (',', ','), ('Messi', 'NNP'), ('is', 'VBZ'), ('the', 'DT'), ('national', 'JJ'), ('team', 'NN'), (\"'s\", 'POS'), ('all-time', 'JJ'), ('leading', 'JJ'), ('goalscorer', 'NN'), ('and', 'CC'), ('most-capped', 'JJ'), ('player', 'NN'), ('.', '.')]\n",
      "[('His', 'PRP$'), ('style', 'NN'), ('of', 'IN'), ('play', 'NN'), ('as', 'IN'), ('a', 'DT'), ('diminutive', 'JJ'), (',', ','), ('left-footed', 'JJ'), ('dribbler', 'NN'), (',', ','), ('drew', 'VBD'), ('career-long', 'JJ'), ('comparisons', 'NNS'), ('with', 'IN'), ('compatriot', 'NN'), ('Diego', 'NNP'), ('Maradona', 'NNP'), (',', ','), ('who', 'WP'), ('described', 'VBD'), ('Messi', 'NNP'), ('as', 'IN'), ('his', 'PRP$'), ('successor', 'NN'), ('.', '.')]\n",
      "[('At', 'IN'), ('the', 'DT'), ('youth', 'NN'), ('level', 'NN'), (',', ','), ('he', 'PRP'), ('won', 'VBD'), ('the', 'DT'), ('2005', 'CD'), ('FIFA', 'NNP'), ('World', 'NNP'), ('Youth', 'NNP'), ('Championship', 'NNP'), ('and', 'CC'), ('gold', 'NN'), ('medal', 'NN'), ('in', 'IN'), ('the', 'DT'), ('2008', 'CD'), ('Summer', 'NNP'), ('Olympics', 'NNPS'), ('.', '.')]\n",
      "[('After', 'IN'), ('his', 'PRP$'), ('senior', 'JJ'), ('debut', 'NN'), ('in', 'IN'), ('2005', 'CD'), (',', ','), ('Messi', 'NNP'), ('became', 'VBD'), ('the', 'DT'), ('youngest', 'JJS'), ('Argentine', 'NN'), ('to', 'TO'), ('play', 'VB'), ('and', 'CC'), ('score', 'VB'), ('in', 'IN'), ('a', 'DT'), ('World', 'NNP'), ('Cup', 'NNP'), ('in', 'IN'), ('2006', 'CD'), ('.', '.')]\n",
      "[('Assuming', 'VBG'), ('captaincy', 'NN'), ('in', 'IN'), ('2011', 'CD'), (',', ','), ('he', 'PRP'), ('then', 'RB'), ('led', 'VBD'), ('Argentina', 'NNP'), ('to', 'TO'), ('three', 'CD'), ('consecutive', 'JJ'), ('finals', 'NNS'), ('in', 'IN'), ('the', 'DT'), ('2014', 'CD'), ('FIFA', 'NNP'), ('World', 'NNP'), ('Cup', 'NNP'), (',', ','), ('the', 'DT'), ('2015', 'CD'), ('Copa', 'NNP'), ('América', 'NNP'), ('and', 'CC'), ('the', 'DT'), ('Copa', 'NNP'), ('América', 'NNP'), ('Centenario', 'NNP'), (',', ','), ('all', 'DT'), ('of', 'IN'), ('which', 'WDT'), ('they', 'PRP'), ('would', 'MD'), ('lose', 'VB'), ('.', '.')]\n",
      "[('After', 'IN'), ('initially', 'RB'), ('announcing', 'VBG'), ('his', 'PRP$'), ('international', 'JJ'), ('retirement', 'NN'), ('in', 'IN'), ('2016', 'CD'), (',', ','), ('he', 'PRP'), ('returned', 'VBD'), ('to', 'TO'), ('help', 'VB'), ('his', 'PRP$'), ('country', 'NN'), ('narrowly', 'RB'), ('qualify', 'VB'), ('for', 'IN'), ('the', 'DT'), ('2018', 'CD'), ('FIFA', 'NNP'), ('World', 'NNP'), ('Cup', 'NNP'), (',', ','), ('which', 'WDT'), ('they', 'PRP'), ('would', 'MD'), ('exit', 'VB'), ('early', 'JJ'), ('.', '.')]\n",
      "[('Messi', 'NNP'), ('and', 'CC'), ('the', 'DT'), ('national', 'JJ'), ('team', 'NN'), ('finally', 'RB'), ('broke', 'VBD'), ('Argentina', 'NNP'), (\"'s\", 'POS'), ('28-year', 'JJ'), ('trophy', 'NN'), ('drought', 'NN'), ('by', 'IN'), ('winning', 'VBG'), ('the', 'DT'), ('2021', 'CD'), ('Copa', 'NNP'), ('América', 'NNP'), (',', ','), ('which', 'WDT'), ('helped', 'VBD'), ('him', 'PRP'), ('secure', 'VB'), ('his', 'PRP$'), ('seventh', 'JJ'), ('Ballon', 'NNP'), (\"d'Or\", 'NN'), ('that', 'IN'), ('year', 'NN'), ('.', '.')]\n",
      "[('He', 'PRP'), ('then', 'RB'), ('led', 'VBD'), ('Argentina', 'NNP'), ('to', 'TO'), ('win', 'VB'), ('the', 'DT'), ('2022', 'CD'), ('Finalissima', 'NNP'), (',', ','), ('as', 'RB'), ('well', 'RB'), ('as', 'IN'), ('the', 'DT'), ('2022', 'CD'), ('FIFA', 'NNP'), ('World', 'NNP'), ('Cup', 'NNP'), (',', ','), ('his', 'PRP$'), ('country', 'NN'), (\"'s\", 'POS'), ('third', 'JJ'), ('overall', 'JJ'), ('world', 'NN'), ('championship', 'NN'), ('and', 'CC'), ('first', 'JJ'), ('in', 'IN'), ('36', 'CD'), ('years', 'NNS'), ('.', '.')]\n",
      "[('This', 'DT'), ('followed', 'VBD'), ('with', 'IN'), ('a', 'DT'), ('record-extending', 'JJ'), ('eighth', 'JJ'), ('Ballon', 'NNP'), (\"d'Or\", 'NN'), ('in', 'IN'), ('2023', 'CD'), (',', ','), ('and', 'CC'), ('a', 'DT'), ('victory', 'NN'), ('in', 'IN'), ('the', 'DT'), ('2024', 'CD'), ('Copa', 'NNP'), ('América', 'NNP'), ('.', '.')]\n"
     ]
    }
   ],
   "source": [
    "for i in range(len(Sentences)):\n",
    "    Word = word_tokenize(Sentences[i])\n",
    "    print (nltk.pos_tag(Word))"
   ]
  },
  {
   "cell_type": "code",
   "execution_count": null,
   "id": "7c547464",
   "metadata": {},
   "outputs": [],
   "source": []
  }
 ],
 "metadata": {
  "kernelspec": {
   "display_name": "GenAI",
   "language": "python",
   "name": "python3"
  },
  "language_info": {
   "codemirror_mode": {
    "name": "ipython",
    "version": 3
   },
   "file_extension": ".py",
   "mimetype": "text/x-python",
   "name": "python",
   "nbconvert_exporter": "python",
   "pygments_lexer": "ipython3",
   "version": "3.13.0"
  }
 },
 "nbformat": 4,
 "nbformat_minor": 5
}
