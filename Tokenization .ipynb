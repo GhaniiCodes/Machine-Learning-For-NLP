{
 "cells": [
  {
   "cell_type": "code",
   "execution_count": 5,
   "id": "1043c1e1",
   "metadata": {},
   "outputs": [
    {
     "name": "stdout",
     "output_type": "stream",
     "text": [
      "Collecting nltk\n",
      "  Using cached nltk-3.9.1-py3-none-any.whl.metadata (2.9 kB)\n",
      "Collecting click (from nltk)\n",
      "  Using cached click-8.1.8-py3-none-any.whl.metadata (2.3 kB)\n",
      "Collecting joblib (from nltk)\n",
      "  Using cached joblib-1.4.2-py3-none-any.whl.metadata (5.4 kB)\n",
      "Collecting regex>=2021.8.3 (from nltk)\n",
      "  Using cached regex-2024.11.6-cp313-cp313-win_amd64.whl.metadata (41 kB)\n",
      "Collecting tqdm (from nltk)\n",
      "  Using cached tqdm-4.67.1-py3-none-any.whl.metadata (57 kB)\n",
      "Requirement already satisfied: colorama in d:\\python\\generative ai\\genai\\lib\\site-packages (from click->nltk) (0.4.6)\n",
      "Using cached nltk-3.9.1-py3-none-any.whl (1.5 MB)\n",
      "Using cached regex-2024.11.6-cp313-cp313-win_amd64.whl (273 kB)\n",
      "Using cached click-8.1.8-py3-none-any.whl (98 kB)\n",
      "Using cached joblib-1.4.2-py3-none-any.whl (301 kB)\n",
      "Using cached tqdm-4.67.1-py3-none-any.whl (78 kB)\n",
      "Installing collected packages: tqdm, regex, joblib, click, nltk\n",
      "Successfully installed click-8.1.8 joblib-1.4.2 nltk-3.9.1 regex-2024.11.6 tqdm-4.67.1\n"
     ]
    },
    {
     "name": "stderr",
     "output_type": "stream",
     "text": [
      "\n",
      "[notice] A new release of pip is available: 24.2 -> 25.0.1\n",
      "[notice] To update, run: python.exe -m pip install --upgrade pip\n"
     ]
    }
   ],
   "source": [
    "!pip install nltk\n"
   ]
  },
  {
   "cell_type": "code",
   "execution_count": 10,
   "id": "50a13ab2",
   "metadata": {},
   "outputs": [],
   "source": [
    "from nltk.tokenize import sent_tokenize, word_tokenize, wordpunct_tokenize"
   ]
  },
  {
   "cell_type": "code",
   "execution_count": 11,
   "id": "5a45c06d",
   "metadata": {},
   "outputs": [],
   "source": [
    "corpus = \"\"\"Islamia College Peshawar is a well-regarded institution with a long history of academic excellence.\n",
    "It is known for its rich heritage and contribution to knowledge.\n",
    "The college's inception marks it as a significant part of the educational landscape.\n",
    "The provided search result indicates the college's prestige and its commitment to maintaining high standards.\"\"\""
   ]
  },
  {
   "cell_type": "code",
   "execution_count": 12,
   "id": "682896be",
   "metadata": {},
   "outputs": [
    {
     "name": "stdout",
     "output_type": "stream",
     "text": [
      "Islamia College Peshawar is a well-regarded institution with a long history of academic excellence.\n",
      "It is known for its rich heritage and contribution to knowledge.\n",
      "The college's inception marks it as a significant part of the educational landscape.\n",
      "The provided search result indicates the college's prestige and its commitment to maintaining high standards.\n"
     ]
    }
   ],
   "source": [
    "print(corpus)"
   ]
  },
  {
   "cell_type": "markdown",
   "id": "1a7c5d8f",
   "metadata": {},
   "source": [
    "# Converting Corpus (Paragraph) into Tokens (Sentences)"
   ]
  },
  {
   "cell_type": "code",
   "execution_count": 15,
   "id": "5fa3e870",
   "metadata": {},
   "outputs": [],
   "source": [
    "Sentences = sent_tokenize(corpus)"
   ]
  },
  {
   "cell_type": "code",
   "execution_count": 16,
   "id": "97ff133a",
   "metadata": {},
   "outputs": [
    {
     "name": "stdout",
     "output_type": "stream",
     "text": [
      "['Islamia College Peshawar is a well-regarded institution with a long history of academic excellence.', 'It is known for its rich heritage and contribution to knowledge.', \"The college's inception marks it as a significant part of the educational landscape.\", \"The provided search result indicates the college's prestige and its commitment to maintaining high standards.\"]\n"
     ]
    }
   ],
   "source": [
    "print (Sentences)"
   ]
  },
  {
   "cell_type": "code",
   "execution_count": 17,
   "id": "f81d40fc",
   "metadata": {},
   "outputs": [
    {
     "name": "stdout",
     "output_type": "stream",
     "text": [
      "Islamia College Peshawar is a well-regarded institution with a long history of academic excellence.\n",
      "It is known for its rich heritage and contribution to knowledge.\n",
      "The college's inception marks it as a significant part of the educational landscape.\n",
      "The provided search result indicates the college's prestige and its commitment to maintaining high standards.\n"
     ]
    }
   ],
   "source": [
    "for sentence in Sentences:\n",
    "    print (sentence)"
   ]
  },
  {
   "cell_type": "markdown",
   "id": "1b6ca16f",
   "metadata": {},
   "source": [
    "# Converting Paragraph and Sentences into Words"
   ]
  },
  {
   "cell_type": "code",
   "execution_count": 18,
   "id": "2f29ddd1",
   "metadata": {},
   "outputs": [
    {
     "data": {
      "text/plain": [
       "['Islamia',\n",
       " 'College',\n",
       " 'Peshawar',\n",
       " 'is',\n",
       " 'a',\n",
       " 'well-regarded',\n",
       " 'institution',\n",
       " 'with',\n",
       " 'a',\n",
       " 'long',\n",
       " 'history',\n",
       " 'of',\n",
       " 'academic',\n",
       " 'excellence',\n",
       " '.',\n",
       " 'It',\n",
       " 'is',\n",
       " 'known',\n",
       " 'for',\n",
       " 'its',\n",
       " 'rich',\n",
       " 'heritage',\n",
       " 'and',\n",
       " 'contribution',\n",
       " 'to',\n",
       " 'knowledge',\n",
       " '.',\n",
       " 'The',\n",
       " 'college',\n",
       " \"'s\",\n",
       " 'inception',\n",
       " 'marks',\n",
       " 'it',\n",
       " 'as',\n",
       " 'a',\n",
       " 'significant',\n",
       " 'part',\n",
       " 'of',\n",
       " 'the',\n",
       " 'educational',\n",
       " 'landscape',\n",
       " '.',\n",
       " 'The',\n",
       " 'provided',\n",
       " 'search',\n",
       " 'result',\n",
       " 'indicates',\n",
       " 'the',\n",
       " 'college',\n",
       " \"'s\",\n",
       " 'prestige',\n",
       " 'and',\n",
       " 'its',\n",
       " 'commitment',\n",
       " 'to',\n",
       " 'maintaining',\n",
       " 'high',\n",
       " 'standards',\n",
       " '.']"
      ]
     },
     "execution_count": 18,
     "metadata": {},
     "output_type": "execute_result"
    }
   ],
   "source": [
    "word_tokenize(corpus)"
   ]
  },
  {
   "cell_type": "code",
   "execution_count": 19,
   "id": "af4af48d",
   "metadata": {},
   "outputs": [
    {
     "data": {
      "text/plain": [
       "['Islamia',\n",
       " 'College',\n",
       " 'Peshawar',\n",
       " 'is',\n",
       " 'a',\n",
       " 'well',\n",
       " '-',\n",
       " 'regarded',\n",
       " 'institution',\n",
       " 'with',\n",
       " 'a',\n",
       " 'long',\n",
       " 'history',\n",
       " 'of',\n",
       " 'academic',\n",
       " 'excellence',\n",
       " '.',\n",
       " 'It',\n",
       " 'is',\n",
       " 'known',\n",
       " 'for',\n",
       " 'its',\n",
       " 'rich',\n",
       " 'heritage',\n",
       " 'and',\n",
       " 'contribution',\n",
       " 'to',\n",
       " 'knowledge',\n",
       " '.',\n",
       " 'The',\n",
       " 'college',\n",
       " \"'\",\n",
       " 's',\n",
       " 'inception',\n",
       " 'marks',\n",
       " 'it',\n",
       " 'as',\n",
       " 'a',\n",
       " 'significant',\n",
       " 'part',\n",
       " 'of',\n",
       " 'the',\n",
       " 'educational',\n",
       " 'landscape',\n",
       " '.',\n",
       " 'The',\n",
       " 'provided',\n",
       " 'search',\n",
       " 'result',\n",
       " 'indicates',\n",
       " 'the',\n",
       " 'college',\n",
       " \"'\",\n",
       " 's',\n",
       " 'prestige',\n",
       " 'and',\n",
       " 'its',\n",
       " 'commitment',\n",
       " 'to',\n",
       " 'maintaining',\n",
       " 'high',\n",
       " 'standards',\n",
       " '.']"
      ]
     },
     "execution_count": 19,
     "metadata": {},
     "output_type": "execute_result"
    }
   ],
   "source": [
    "wordpunct_tokenize(corpus)"
   ]
  },
  {
   "cell_type": "markdown",
   "id": "b2d6297a",
   "metadata": {},
   "source": [
    "### The basic difference in words tokenize and wordpunct tokenize is that in wordpunct tokenize puncuations will also be considered as seperate word. While in word tokenize the punuations are not considered seperate words"
   ]
  },
  {
   "cell_type": "code",
   "execution_count": 20,
   "id": "11b65d81",
   "metadata": {},
   "outputs": [
    {
     "name": "stdout",
     "output_type": "stream",
     "text": [
      "['Islamia', 'College', 'Peshawar', 'is', 'a', 'well-regarded', 'institution', 'with', 'a', 'long', 'history', 'of', 'academic', 'excellence', '.']\n",
      "['It', 'is', 'known', 'for', 'its', 'rich', 'heritage', 'and', 'contribution', 'to', 'knowledge', '.']\n",
      "['The', 'college', \"'s\", 'inception', 'marks', 'it', 'as', 'a', 'significant', 'part', 'of', 'the', 'educational', 'landscape', '.']\n",
      "['The', 'provided', 'search', 'result', 'indicates', 'the', 'college', \"'s\", 'prestige', 'and', 'its', 'commitment', 'to', 'maintaining', 'high', 'standards', '.']\n"
     ]
    }
   ],
   "source": [
    "for sentence in Sentences:\n",
    "    print (word_tokenize(sentence))"
   ]
  },
  {
   "cell_type": "code",
   "execution_count": 21,
   "id": "af31d1d8",
   "metadata": {},
   "outputs": [
    {
     "name": "stdout",
     "output_type": "stream",
     "text": [
      "['Islamia', 'College', 'Peshawar', 'is', 'a', 'well', '-', 'regarded', 'institution', 'with', 'a', 'long', 'history', 'of', 'academic', 'excellence', '.']\n",
      "['It', 'is', 'known', 'for', 'its', 'rich', 'heritage', 'and', 'contribution', 'to', 'knowledge', '.']\n",
      "['The', 'college', \"'\", 's', 'inception', 'marks', 'it', 'as', 'a', 'significant', 'part', 'of', 'the', 'educational', 'landscape', '.']\n",
      "['The', 'provided', 'search', 'result', 'indicates', 'the', 'college', \"'\", 's', 'prestige', 'and', 'its', 'commitment', 'to', 'maintaining', 'high', 'standards', '.']\n"
     ]
    }
   ],
   "source": [
    "for sentence in Sentences:\n",
    "    print (wordpunct_tokenize(sentence))"
   ]
  },
  {
   "cell_type": "code",
   "execution_count": null,
   "id": "c56e7c3a",
   "metadata": {},
   "outputs": [],
   "source": []
  }
 ],
 "metadata": {
  "kernelspec": {
   "display_name": "GenAI",
   "language": "python",
   "name": "python3"
  },
  "language_info": {
   "codemirror_mode": {
    "name": "ipython",
    "version": 3
   },
   "file_extension": ".py",
   "mimetype": "text/x-python",
   "name": "python",
   "nbconvert_exporter": "python",
   "pygments_lexer": "ipython3",
   "version": "3.13.0"
  }
 },
 "nbformat": 4,
 "nbformat_minor": 5
}
