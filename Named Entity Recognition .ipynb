{
 "cells": [
  {
   "cell_type": "markdown",
   "id": "bc5870b2",
   "metadata": {},
   "source": [
    "# Named Entity Tags \n",
    "\n",
    "Beside the parts of speech tagging we can also do Named entity taging \n",
    "such as \n",
    "\n",
    "* person\n",
    "* location\n",
    "* Time \n",
    "* Organization\n",
    "* Money \n",
    "* Percentage"
   ]
  },
  {
   "cell_type": "code",
   "execution_count": 7,
   "id": "2fbf9350",
   "metadata": {},
   "outputs": [],
   "source": [
    "import nltk"
   ]
  },
  {
   "cell_type": "code",
   "execution_count": 2,
   "id": "c563e71a",
   "metadata": {},
   "outputs": [],
   "source": [
    "Corpus = \"\"\"An Argentine international, Messi is the national team's all-time leading goalscorer and most-capped player.\n",
    "His style of play as a diminutive, left-footed dribbler, drew career-long comparisons with compatriot Diego Maradona,\n",
    "who described Messi as his successor.\n",
    "At the youth level, he won the 2005 FIFA World Youth Championship and gold medal in the 2008 Summer Olympics.\n",
    "After his senior debut in 2005, Messi became the youngest Argentine to play and score in a World Cup in 2006.\n",
    "Assuming captaincy in 2011, he then led Argentina to three consecutive finals in the 2014 FIFA World Cup,\n",
    "the 2015 Copa América and the Copa América Centenario, all of which they would lose.\n",
    "After initially announcing his international retirement in 2016,\n",
    "he returned to help his country narrowly qualify for the 2018 FIFA World Cup, which they would exit early.\n",
    "Messi and the national team finally broke Argentina's 28-year trophy drought by winning the 2021 Copa América,\n",
    "which helped him secure his seventh Ballon d'Or that year.\n",
    "He then led Argentina to win the 2022 Finalissima,\n",
    "as well as the 2022 FIFA World Cup, his country's third overall world championship and first in 36 years.\n",
    "This followed with a record-extending eighth Ballon d'Or in 2023, and a victory in the 2024 Copa América.\"\"\""
   ]
  },
  {
   "cell_type": "code",
   "execution_count": 8,
   "id": "38cea21f",
   "metadata": {},
   "outputs": [
    {
     "data": {
      "text/plain": [
       "[\"An Argentine international, Messi is the national team's all-time leading goalscorer and most-capped player.\",\n",
       " 'His style of play as a diminutive, left-footed dribbler, drew career-long comparisons with compatriot Diego Maradona,\\nwho described Messi as his successor.',\n",
       " 'At the youth level, he won the 2005 FIFA World Youth Championship and gold medal in the 2008 Summer Olympics.',\n",
       " 'After his senior debut in 2005, Messi became the youngest Argentine to play and score in a World Cup in 2006.',\n",
       " 'Assuming captaincy in 2011, he then led Argentina to three consecutive finals in the 2014 FIFA World Cup,\\nthe 2015 Copa América and the Copa América Centenario, all of which they would lose.',\n",
       " 'After initially announcing his international retirement in 2016,\\nhe returned to help his country narrowly qualify for the 2018 FIFA World Cup, which they would exit early.',\n",
       " \"Messi and the national team finally broke Argentina's 28-year trophy drought by winning the 2021 Copa América,\\nwhich helped him secure his seventh Ballon d'Or that year.\",\n",
       " \"He then led Argentina to win the 2022 Finalissima,\\nas well as the 2022 FIFA World Cup, his country's third overall world championship and first in 36 years.\",\n",
       " \"This followed with a record-extending eighth Ballon d'Or in 2023, and a victory in the 2024 Copa América.\"]"
      ]
     },
     "execution_count": 8,
     "metadata": {},
     "output_type": "execute_result"
    }
   ],
   "source": [
    "Sentences = nltk.sent_tokenize(Corpus)\n",
    "Sentences"
   ]
  },
  {
   "cell_type": "code",
   "execution_count": 18,
   "id": "d19e4b58",
   "metadata": {},
   "outputs": [
    {
     "name": "stdout",
     "output_type": "stream",
     "text": [
      "                                                                         S                                                                                          \n",
      "   ______________________________________________________________________|_____________________________________________________________________________________      \n",
      "  |          |          |    |      |         |         |      |         |          |            |         |          |            |      |   ORGANIZATION   PERSON \n",
      "  |          |          |    |      |         |         |      |         |          |            |         |          |            |      |        |           |     \n",
      "An/DT international/JJ ,/, is/VBZ the/DT national/JJ team/NN 's/POS all-time/JJ leading/JJ goalscorer/NN and/CC most-capped/JJ player/NN ./. Argentine/NNP Messi/NNP\n",
      "\n",
      "                                                                                                           S                                                                                                                                              \n",
      "    _______________________________________________________________________________________________________|_________________________________________________________________________________________________________________________________________      \n",
      "   |        |       |      |      |    |         |        |        |             |       |     |           |               |           |          |        |    |          |         |      |          |        |            PERSON                PERSON \n",
      "   |        |       |      |      |    |         |        |        |             |       |     |           |               |           |          |        |    |          |         |      |          |        |       _______|_________            |     \n",
      "His/PRP$ style/NN of/IN play/NN as/IN a/DT diminutive/JJ ,/, left-footed/JJ dribbler/NN ,/, drew/VBD career-long/JJ comparisons/NNS with/IN compatriot/NN ,/, who/WP described/VBD as/IN his/PRP$ successor/NN ./. Diego/NNP        Maradona/NNP Messi/NNP\n",
      "\n",
      "                                                                               S                                                                                                                         \n",
      "   ____________________________________________________________________________|____________________________________________________________________________________________________                      \n",
      "  |     |       |        |      |    |       |      |       |        |         |            |           |       |       |       |     |       |     |  ORGANIZATION            ORGANIZATION              \n",
      "  |     |       |        |      |    |       |      |       |        |         |            |           |       |       |       |     |       |     |       |            ___________|_____________        \n",
      "At/IN the/DT youth/NN level/NN ,/, he/PRP won/VBD the/DT 2005/CD World/NNP Youth/NNP Championship/NNP and/CC gold/NN medal/NN in/IN the/DT 2008/CD ./.   FIFA/NNP   Summer/NNP              Olympics/NNPS\n",
      "\n",
      "                                                                                                     S                                                                                   \n",
      "    _________________________________________________________________________________________________|______________________________________________________________________________      \n",
      "   |        |         |        |       |      |     |      |        |         |            |         |      |      |       |       |    |       |        |      |      |     |    PERSON \n",
      "   |        |         |        |       |      |     |      |        |         |            |         |      |      |       |       |    |       |        |      |      |     |      |     \n",
      "After/IN his/PRP$ senior/JJ debut/NN in/IN 2005/CD ,/, became/VBD the/DT youngest/JJS Argentine/NN to/TO play/VB and/CC score/VB in/IN a/DT World/NNP Cup/NNP in/IN 2006/CD ./. Messi/NNP\n",
      "\n",
      "                                                                                                                                                         S                                                                                                                                                                       \n",
      "      ___________________________________________________________________________________________________________________________________________________|_________________________________________________________________________________________________________________________________________________                       \n",
      "     |            |         |      |     |    |       |       |      |      |           |            |        |     |       |        |        |     |    |       |       |          |        |      |     |    |      |       |        |        |        |     |       GPE      ORGANIZATION          ORGANIZATION               \n",
      "     |            |         |      |     |    |       |       |      |      |           |            |        |     |       |        |        |     |    |       |       |          |        |      |     |    |      |       |        |        |        |     |        |            |           __________|_____________         \n",
      "Assuming/VBG captaincy/NN in/IN 2011/CD ,/, he/PRP then/RB led/VBD to/TO three/CD consecutive/JJ finals/NNS in/IN the/DT 2014/CD World/NNP Cup/NNP ,/, the/DT 2015/CD Copa/NNP América/NNP and/CC the/DT ,/, all/DT of/IN which/WDT they/PRP would/MD lose/VB ./. Argentina/NNP   FIFA/NNP   Copa/NNP América/NNP  Centenario/NNP\n",
      "\n",
      "                                                                                                                                              S                                                                                                                                      \n",
      "    __________________________________________________________________________________________________________________________________________|_______________________________________________________________________________________________________________________________        \n",
      "   |          |             |           |            |               |         |      |     |    |         |         |      |       |         |           |          |        |      |       |        |        |     |      |        |        |        |       |      |  ORGANIZATION\n",
      "   |          |             |           |            |               |         |      |     |    |         |         |      |       |         |           |          |        |      |       |        |        |     |      |        |        |        |       |      |       |       \n",
      "After/IN initially/RB announcing/VBG his/PRP$ international/JJ retirement/NN in/IN 2016/CD ,/, he/PRP returned/VBD to/TO help/VB his/PRP$ country/NN narrowly/RB qualify/VB for/IN the/DT 2018/CD World/NNP Cup/NNP ,/, which/WDT they/PRP would/MD exit/VB early/JJ ./.   FIFA/NNP  \n",
      "\n",
      "                                                                                                                                  S                                                                                                                                              \n",
      "   _______________________________________________________________________________________________________________________________|________________________________________________________________________________________________________________________________________       \n",
      "  |      |         |         |        |          |       |        |          |         |        |        |        |       |       |          |       |      |         |         |        |        |         |         |       |       |     |     GPE         GPE         GPE    \n",
      "  |      |         |         |        |          |       |        |          |         |        |        |        |       |       |          |       |      |         |         |        |        |         |         |       |       |     |      |           |           |      \n",
      "and/CC the/DT national/JJ team/NN finally/RB broke/VBD 's/POS 28-year/JJ trophy/NN drought/NN by/IN winning/VBG the/DT 2021/CD Copa/NNP América/NNP ,/, which/WDT helped/VBD him/PRP secure/VB his/PRP$ seventh/JJ d'Or/NN that/IN year/NN ./. Messi/NNP Argentina/NNP Ballon/NNP\n",
      "\n",
      "                                                                                                                       S                                                                                                                                                    \n",
      "   ____________________________________________________________________________________________________________________|_____________________________________________________________________________________________________________________________________________        \n",
      "  |       |       |      |     |      |       |           |         |    |      |      |     |       |        |        |     |     |         |        |       |         |         |            |          |       |       |     |       |      |       GPE      ORGANIZATION\n",
      "  |       |       |      |     |      |       |           |         |    |      |      |     |       |        |        |     |     |         |        |       |         |         |            |          |       |       |     |       |      |        |            |       \n",
      "He/PRP then/RB led/VBD to/TO win/VB the/DT 2022/CD Finalissima/NNP ,/, as/RB well/RB as/IN the/DT 2022/CD World/NNP Cup/NNP ,/, his/PRP$ country/NN 's/POS third/JJ overall/JJ world/NN championship/NN and/CC first/JJ in/IN 36/CD years/NNS ./. Argentina/NNP   FIFA/NNP  \n",
      "\n",
      "                                                                                     S                                                                                 \n",
      "    _________________________________________________________________________________|___________________________________________________________________________       \n",
      "   |         |          |     |           |             |        |      |      |     |    |     |       |        |     |       |       |          |       |     GPE    \n",
      "   |         |          |     |           |             |        |      |      |     |    |     |       |        |     |       |       |          |       |      |      \n",
      "This/DT followed/VBD with/IN a/DT record-extending/ eighth/JJ d'Or/NN in/IN 2023/CD ,/, and/CC a/DT victory/NN in/IN the/DT 2024/CD Copa/NNP América/NNP ./. Ballon/NNP\n",
      "                                          JJ                                                                                                                           \n",
      "\n"
     ]
    }
   ],
   "source": [
    "for i in range(len(Sentences)):\n",
    "    Words = nltk.word_tokenize(Sentences[i])\n",
    "    Tagged_Words = nltk.pos_tag(Words)\n",
    "    Entity_Tagged = nltk.ne_chunk(Tagged_Words)\n",
    "    Entity_Tagged.pretty_print()"
   ]
  },
  {
   "cell_type": "code",
   "execution_count": null,
   "id": "29bc1501",
   "metadata": {},
   "outputs": [],
   "source": []
  },
  {
   "cell_type": "code",
   "execution_count": null,
   "id": "23cebef8",
   "metadata": {},
   "outputs": [],
   "source": []
  }
 ],
 "metadata": {
  "kernelspec": {
   "display_name": "GenAI",
   "language": "python",
   "name": "python3"
  },
  "language_info": {
   "codemirror_mode": {
    "name": "ipython",
    "version": 3
   },
   "file_extension": ".py",
   "mimetype": "text/x-python",
   "name": "python",
   "nbconvert_exporter": "python",
   "pygments_lexer": "ipython3",
   "version": "3.13.0"
  }
 },
 "nbformat": 4,
 "nbformat_minor": 5
}
