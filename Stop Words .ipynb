{
 "cells": [
  {
   "cell_type": "markdown",
   "id": "ea97c16a",
   "metadata": {},
   "source": [
    "# Stop Words \n",
    "\n",
    "stop words are the words which sometimes don't play a specific role in our projects (i.e: Spam classifiation , Review Classification)\n",
    "So we will remove them"
   ]
  },
  {
   "cell_type": "code",
   "execution_count": 19,
   "id": "a52818f6",
   "metadata": {},
   "outputs": [
    {
     "name": "stderr",
     "output_type": "stream",
     "text": [
      "[nltk_data] Downloading package stopwords to\n",
      "[nltk_data]     C:\\Users\\eurika\\AppData\\Roaming\\nltk_data...\n",
      "[nltk_data]   Package stopwords is already up-to-date!\n"
     ]
    },
    {
     "data": {
      "text/plain": [
       "True"
      ]
     },
     "execution_count": 19,
     "metadata": {},
     "output_type": "execute_result"
    }
   ],
   "source": [
    "#importing stopword library and downloading stopwords\n",
    "\n",
    "from nltk.corpus import stopwords\n",
    "import nltk\n",
    "\n",
    "nltk.download('stopwords')"
   ]
  },
  {
   "cell_type": "code",
   "execution_count": 20,
   "id": "77b0c932",
   "metadata": {},
   "outputs": [],
   "source": [
    "# This is the paragraph we will apply stopwords with the help of lemmatization or stemming \n",
    "\n",
    "Corpus = \"\"\"An Argentine international, Messi is the national team's all-time leading goalscorer and most-capped player.\n",
    "His style of play as a diminutive, left-footed dribbler, drew career-long comparisons with compatriot Diego Maradona,\n",
    "who described Messi as his successor.\n",
    "At the youth level, he won the 2005 FIFA World Youth Championship and gold medal in the 2008 Summer Olympics.\n",
    "After his senior debut in 2005, Messi became the youngest Argentine to play and score in a World Cup in 2006.\n",
    "Assuming captaincy in 2011, he then led Argentina to three consecutive finals in the 2014 FIFA World Cup,\n",
    "the 2015 Copa América and the Copa América Centenario, all of which they would lose.\n",
    "After initially announcing his international retirement in 2016,\n",
    "he returned to help his country narrowly qualify for the 2018 FIFA World Cup, which they would exit early.\n",
    "Messi and the national team finally broke Argentina's 28-year trophy drought by winning the 2021 Copa América,\n",
    "which helped him secure his seventh Ballon d'Or that year.\n",
    "He then led Argentina to win the 2022 Finalissima,\n",
    "as well as the 2022 FIFA World Cup, his country's third overall world championship and first in 36 years.\n",
    "This followed with a record-extending eighth Ballon d'Or in 2023, and a victory in the 2024 Copa América.\"\"\""
   ]
  },
  {
   "cell_type": "code",
   "execution_count": 21,
   "metadata": {},
   "outputs": [
    {
     "data": {
      "text/plain": [
       "{'a',\n",
       " 'about',\n",
       " 'above',\n",
       " 'after',\n",
       " 'again',\n",
       " 'against',\n",
       " 'ain',\n",
       " 'all',\n",
       " 'am',\n",
       " 'an',\n",
       " 'and',\n",
       " 'any',\n",
       " 'are',\n",
       " 'aren',\n",
       " \"aren't\",\n",
       " 'as',\n",
       " 'at',\n",
       " 'be',\n",
       " 'because',\n",
       " 'been',\n",
       " 'before',\n",
       " 'being',\n",
       " 'below',\n",
       " 'between',\n",
       " 'both',\n",
       " 'but',\n",
       " 'by',\n",
       " 'can',\n",
       " 'couldn',\n",
       " \"couldn't\",\n",
       " 'd',\n",
       " 'did',\n",
       " 'didn',\n",
       " \"didn't\",\n",
       " 'do',\n",
       " 'does',\n",
       " 'doesn',\n",
       " \"doesn't\",\n",
       " 'doing',\n",
       " 'don',\n",
       " \"don't\",\n",
       " 'down',\n",
       " 'during',\n",
       " 'each',\n",
       " 'few',\n",
       " 'for',\n",
       " 'from',\n",
       " 'further',\n",
       " 'had',\n",
       " 'hadn',\n",
       " \"hadn't\",\n",
       " 'has',\n",
       " 'hasn',\n",
       " \"hasn't\",\n",
       " 'have',\n",
       " 'haven',\n",
       " \"haven't\",\n",
       " 'having',\n",
       " 'he',\n",
       " \"he'd\",\n",
       " \"he'll\",\n",
       " \"he's\",\n",
       " 'her',\n",
       " 'here',\n",
       " 'hers',\n",
       " 'herself',\n",
       " 'him',\n",
       " 'himself',\n",
       " 'his',\n",
       " 'how',\n",
       " 'i',\n",
       " \"i'd\",\n",
       " \"i'll\",\n",
       " \"i'm\",\n",
       " \"i've\",\n",
       " 'if',\n",
       " 'in',\n",
       " 'into',\n",
       " 'is',\n",
       " 'isn',\n",
       " \"isn't\",\n",
       " 'it',\n",
       " \"it'd\",\n",
       " \"it'll\",\n",
       " \"it's\",\n",
       " 'its',\n",
       " 'itself',\n",
       " 'just',\n",
       " 'll',\n",
       " 'm',\n",
       " 'ma',\n",
       " 'me',\n",
       " 'mightn',\n",
       " \"mightn't\",\n",
       " 'more',\n",
       " 'most',\n",
       " 'mustn',\n",
       " \"mustn't\",\n",
       " 'my',\n",
       " 'myself',\n",
       " 'needn',\n",
       " \"needn't\",\n",
       " 'no',\n",
       " 'nor',\n",
       " 'not',\n",
       " 'now',\n",
       " 'o',\n",
       " 'of',\n",
       " 'off',\n",
       " 'on',\n",
       " 'once',\n",
       " 'only',\n",
       " 'or',\n",
       " 'other',\n",
       " 'our',\n",
       " 'ours',\n",
       " 'ourselves',\n",
       " 'out',\n",
       " 'over',\n",
       " 'own',\n",
       " 're',\n",
       " 's',\n",
       " 'same',\n",
       " 'shan',\n",
       " \"shan't\",\n",
       " 'she',\n",
       " \"she'd\",\n",
       " \"she'll\",\n",
       " \"she's\",\n",
       " 'should',\n",
       " \"should've\",\n",
       " 'shouldn',\n",
       " \"shouldn't\",\n",
       " 'so',\n",
       " 'some',\n",
       " 'such',\n",
       " 't',\n",
       " 'than',\n",
       " 'that',\n",
       " \"that'll\",\n",
       " 'the',\n",
       " 'their',\n",
       " 'theirs',\n",
       " 'them',\n",
       " 'themselves',\n",
       " 'then',\n",
       " 'there',\n",
       " 'these',\n",
       " 'they',\n",
       " \"they'd\",\n",
       " \"they'll\",\n",
       " \"they're\",\n",
       " \"they've\",\n",
       " 'this',\n",
       " 'those',\n",
       " 'through',\n",
       " 'to',\n",
       " 'too',\n",
       " 'under',\n",
       " 'until',\n",
       " 'up',\n",
       " 've',\n",
       " 'very',\n",
       " 'was',\n",
       " 'wasn',\n",
       " \"wasn't\",\n",
       " 'we',\n",
       " \"we'd\",\n",
       " \"we'll\",\n",
       " \"we're\",\n",
       " \"we've\",\n",
       " 'were',\n",
       " 'weren',\n",
       " \"weren't\",\n",
       " 'what',\n",
       " 'when',\n",
       " 'where',\n",
       " 'which',\n",
       " 'while',\n",
       " 'who',\n",
       " 'whom',\n",
       " 'why',\n",
       " 'will',\n",
       " 'with',\n",
       " 'won',\n",
       " \"won't\",\n",
       " 'wouldn',\n",
       " \"wouldn't\",\n",
       " 'y',\n",
       " 'you',\n",
       " \"you'd\",\n",
       " \"you'll\",\n",
       " \"you're\",\n",
       " \"you've\",\n",
       " 'your',\n",
       " 'yours',\n",
       " 'yourself',\n",
       " 'yourselves'}"
      ]
     },
     "execution_count": 21,
     "metadata": {},
     "output_type": "execute_result"
    }
   ],
   "source": [
    "Stopwords = set(stopwords.words('English'))\n",
    "Stopwords"
   ]
  },
  {
   "cell_type": "code",
   "execution_count": 23,
   "id": "a3aba883",
   "metadata": {},
   "outputs": [
    {
     "data": {
      "text/plain": [
       "[\"An Argentine international, Messi is the national team's all-time leading goalscorer and most-capped player.\",\n",
       " 'His style of play as a diminutive, left-footed dribbler, drew career-long comparisons with compatriot Diego Maradona,\\nwho described Messi as his successor.',\n",
       " 'At the youth level, he won the 2005 FIFA World Youth Championship and gold medal in the 2008 Summer Olympics.',\n",
       " 'After his senior debut in 2005, Messi became the youngest Argentine to play and score in a World Cup in 2006.',\n",
       " 'Assuming captaincy in 2011, he then led Argentina to three consecutive finals in the 2014 FIFA World Cup,\\nthe 2015 Copa América and the Copa América Centenario, all of which they would lose.',\n",
       " 'After initially announcing his international retirement in 2016,\\nhe returned to help his country narrowly qualify for the 2018 FIFA World Cup, which they would exit early.',\n",
       " \"Messi and the national team finally broke Argentina's 28-year trophy drought by winning the 2021 Copa América,\\nwhich helped him secure his seventh Ballon d'Or that year.\",\n",
       " \"He then led Argentina to win the 2022 Finalissima,\\nas well as the 2022 FIFA World Cup, his country's third overall world championship and first in 36 years.\",\n",
       " \"This followed with a record-extending eighth Ballon d'Or in 2023, and a victory in the 2024 Copa América.\"]"
      ]
     },
     "execution_count": 23,
     "metadata": {},
     "output_type": "execute_result"
    }
   ],
   "source": [
    "from nltk.tokenize import sent_tokenize\n",
    "\n",
    "Sentences = sent_tokenize(Corpus) #Converting Paragraph into Sentences\n",
    "Sentences"
   ]
  },
  {
   "cell_type": "code",
   "execution_count": null,
   "id": "68349839",
   "metadata": {},
   "outputs": [],
   "source": [
    "from nltk.tokenize import word_tokenize\n",
    "from nltk.stem import WordNetLemmatizer\n",
    "\n",
    "Lemmatizer = WordNetLemmatizer() # initializing Lemmatization\n",
    "\n",
    "for i in range(len(Sentences)):  #For loop till the length of sentences\n",
    "    words = word_tokenize(Sentences[i]) #Converting Words into sentences\n",
    "    \n",
    "    #Applying Lemmatization on the words not in stopwords and saving them in Lemmatized variable\n",
    "    Lemmatized = [Lemmatizer.lemmatize(word) for word in words if word not in Stopwords] \n",
    "    Sentences[i] = \" \".join(Lemmatized) #Joining the words inorder to make sentences with no stopwords\n",
    "    "
   ]
  },
  {
   "cell_type": "markdown",
   "id": "cf7196b2",
   "metadata": {},
   "source": [
    "* Lemmatization is better than stemming because it gave us a better meaning"
   ]
  },
  {
   "cell_type": "code",
   "execution_count": 18,
   "id": "b0cd43df",
   "metadata": {},
   "outputs": [
    {
     "data": {
      "text/plain": [
       "[\"An Argentine international , Messi national team 's all-time leading goalscorer most-capped player .\",\n",
       " 'His style play diminutive , left-footed dribbler , drew career-long comparison compatriot Diego Maradona , described Messi successor .',\n",
       " 'At youth level , 2005 FIFA World Youth Championship gold medal 2008 Summer Olympics .',\n",
       " 'After senior debut 2005 , Messi became youngest Argentine play score World Cup 2006 .',\n",
       " 'Assuming captaincy 2011 , led Argentina three consecutive final 2014 FIFA World Cup , 2015 Copa América Copa América Centenario , would lose .',\n",
       " 'After initially announcing international retirement 2016 , returned help country narrowly qualify 2018 FIFA World Cup , would exit early .',\n",
       " \"Messi national team finally broke Argentina 's 28-year trophy drought winning 2021 Copa América , helped secure seventh Ballon d'Or year .\",\n",
       " \"He led Argentina win 2022 Finalissima , well 2022 FIFA World Cup , country 's third overall world championship first 36 year .\",\n",
       " \"This followed record-extending eighth Ballon d'Or 2023 , victory 2024 Copa América .\"]"
      ]
     },
     "execution_count": 18,
     "metadata": {},
     "output_type": "execute_result"
    }
   ],
   "source": [
    "Sentences"
   ]
  },
  {
   "cell_type": "markdown",
   "id": "8d725de7",
   "metadata": {},
   "source": [
    "* We can do the same thing with the help of Stemming but some words maybe meaningless"
   ]
  },
  {
   "cell_type": "code",
   "execution_count": 28,
   "id": "2b53024c",
   "metadata": {},
   "outputs": [],
   "source": [
    "from nltk.stem import SnowballStemmer\n",
    "\n",
    "Snowball = SnowballStemmer('english')\n",
    "\n",
    "for i in range(len(Sentences)):  #For loop till the length of sentences\n",
    "    words = word_tokenize(Sentences[i]) #Converting Words into sentences\n",
    "    \n",
    "    #Applying Stemming on the words not in stopwords and saving them in Stemmed variable\n",
    "    Stemmed = [Snowball.stem(word) for word in words if word not in Stopwords] \n",
    "    Sentences[i] = \" \".join(Stemmed) #Joining the words inorder to make sentences with no stopwords"
   ]
  },
  {
   "cell_type": "code",
   "execution_count": 29,
   "id": "72641cb1",
   "metadata": {},
   "outputs": [
    {
     "data": {
      "text/plain": [
       "[\"an argentin intern , messi nation team 's all-tim lead goalscor most-cap player .\",\n",
       " 'his style play diminut , left-foot dribbler , drew career-long comparison compatriot diego maradona , describ messi successor .',\n",
       " 'at youth level , 2005 fifa world youth championship gold medal 2008 summer olymp .',\n",
       " 'after senior debut 2005 , messi becam youngest argentin play score world cup 2006 .',\n",
       " 'assum captainci 2011 , led argentina three consecut final 2014 fifa world cup , 2015 copa américa copa américa centenario , would lose .',\n",
       " 'after initi announc intern retir 2016 , return help countri narrowli qualifi 2018 fifa world cup , would exit earli .',\n",
       " \"messi nation team final broke argentina 's 28-year trophi drought win 2021 copa américa , help secur seventh ballon d'or year .\",\n",
       " \"he led argentina win 2022 finalissima , well 2022 fifa world cup , countri 's third overal world championship first 36 year .\",\n",
       " \"this follow record-extend eighth ballon d'or 2023 , victori 2024 copa américa .\"]"
      ]
     },
     "execution_count": 29,
     "metadata": {},
     "output_type": "execute_result"
    }
   ],
   "source": [
    "Sentences"
   ]
  },
  {
   "cell_type": "code",
   "execution_count": null,
   "id": "5b5bcedb",
   "metadata": {},
   "outputs": [],
   "source": []
  }
 ],
 "metadata": {
  "kernelspec": {
   "display_name": "GenAI",
   "language": "python",
   "name": "python3"
  },
  "language_info": {
   "codemirror_mode": {
    "name": "ipython",
    "version": 3
   },
   "file_extension": ".py",
   "mimetype": "text/x-python",
   "name": "python",
   "nbconvert_exporter": "python",
   "pygments_lexer": "ipython3",
   "version": "3.13.0"
  }
 },
 "nbformat": 4,
 "nbformat_minor": 5
}
